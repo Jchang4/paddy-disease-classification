{
 "cells": [
  {
   "cell_type": "code",
   "execution_count": null,
   "id": "ce13f6e1",
   "metadata": {},
   "outputs": [],
   "source": [
    "%load_ext autoreload\n",
    "%autoreload 2"
   ]
  },
  {
   "cell_type": "code",
   "execution_count": null,
   "id": "8d7d257c-a3b5-453c-ad26-9639d300d179",
   "metadata": {},
   "outputs": [],
   "source": [
    "from jupyter_helpers import *\n",
    "from pathlib import Path"
   ]
  },
  {
   "cell_type": "code",
   "execution_count": null,
   "id": "ec2c4225",
   "metadata": {},
   "outputs": [],
   "source": [
    "create_github_sshkey_on_machine(\"<your_email_here>\")"
   ]
  },
  {
   "cell_type": "code",
   "execution_count": null,
   "id": "8feda7ac",
   "metadata": {},
   "outputs": [],
   "source": [
    "download_data(\"paddy-disease-classification\", Path('./paddy_data'))"
   ]
  }
 ],
 "metadata": {
  "kernelspec": {
   "display_name": "fastai",
   "language": "python",
   "name": "python3"
  },
  "language_info": {
   "codemirror_mode": {
    "name": "ipython",
    "version": 3
   },
   "file_extension": ".py",
   "mimetype": "text/x-python",
   "name": "python",
   "nbconvert_exporter": "python",
   "pygments_lexer": "ipython3",
   "version": "3.10.8 | packaged by conda-forge | (main, Nov 22 2022, 08:25:29) [Clang 14.0.6 ]"
  },
  "vscode": {
   "interpreter": {
    "hash": "6b6cedc503478353731f605ddbfb5ce5eeada3dad156b26727da5e56b4506560"
   }
  }
 },
 "nbformat": 4,
 "nbformat_minor": 5
}
