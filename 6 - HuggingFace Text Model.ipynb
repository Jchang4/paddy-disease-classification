{
 "cells": [
  {
   "cell_type": "markdown",
   "id": "5cbdb6d3-50d8-4c33-ab6d-495c2276b276",
   "metadata": {
    "tags": []
   },
   "source": [
    "### Note: this model isn't supposed to be good, it's using only one word to predict the label and most of the input words are the same. This is just practicing with the framework"
   ]
  },
  {
   "cell_type": "code",
   "execution_count": 1,
   "id": "a1c385e1",
   "metadata": {
    "ExecuteTime": {
     "end_time": "2022-12-11T22:31:47.897452Z",
     "start_time": "2022-12-11T22:31:47.869122Z"
    }
   },
   "outputs": [],
   "source": [
    "%load_ext autoreload\n",
    "%autoreload 2"
   ]
  },
  {
   "cell_type": "code",
   "execution_count": 110,
   "id": "303fb5fc",
   "metadata": {
    "ExecuteTime": {
     "end_time": "2022-12-11T23:15:59.536556Z",
     "start_time": "2022-12-11T23:15:59.480578Z"
    }
   },
   "outputs": [],
   "source": [
    "from jupyter_helpers import *\n",
    "from helpers import *\n",
    "\n",
    "set_seed(99, True)"
   ]
  },
  {
   "cell_type": "code",
   "execution_count": 60,
   "id": "5c6668e5",
   "metadata": {
    "ExecuteTime": {
     "end_time": "2022-12-11T22:56:01.005971Z",
     "start_time": "2022-12-11T22:55:59.866719Z"
    }
   },
   "outputs": [
    {
     "data": {
      "text/html": [
       "\n",
       "<style>\n",
       "    /* Turns off some styling */\n",
       "    progress {\n",
       "        /* gets rid of default border in Firefox and Opera. */\n",
       "        border: none;\n",
       "        /* Needs to be in here for Safari polyfill so background images work as expected. */\n",
       "        background-size: auto;\n",
       "    }\n",
       "    progress:not([value]), progress:not([value])::-webkit-progress-bar {\n",
       "        background: repeating-linear-gradient(45deg, #7e7e7e, #7e7e7e 10px, #5c5c5c 10px, #5c5c5c 20px);\n",
       "    }\n",
       "    .progress-bar-interrupted, .progress-bar-interrupted::-webkit-progress-bar {\n",
       "        background: #F44336;\n",
       "    }\n",
       "</style>\n"
      ],
      "text/plain": [
       "<IPython.core.display.HTML object>"
      ]
     },
     "metadata": {},
     "output_type": "display_data"
    },
    {
     "data": {
      "text/html": [],
      "text/plain": [
       "<IPython.core.display.HTML object>"
      ]
     },
     "metadata": {},
     "output_type": "display_data"
    },
    {
     "data": {
      "text/html": [
       "\n",
       "<style>\n",
       "    /* Turns off some styling */\n",
       "    progress {\n",
       "        /* gets rid of default border in Firefox and Opera. */\n",
       "        border: none;\n",
       "        /* Needs to be in here for Safari polyfill so background images work as expected. */\n",
       "        background-size: auto;\n",
       "    }\n",
       "    progress:not([value]), progress:not([value])::-webkit-progress-bar {\n",
       "        background: repeating-linear-gradient(45deg, #7e7e7e, #7e7e7e 10px, #5c5c5c 10px, #5c5c5c 20px);\n",
       "    }\n",
       "    .progress-bar-interrupted, .progress-bar-interrupted::-webkit-progress-bar {\n",
       "        background: #F44336;\n",
       "    }\n",
       "</style>\n"
      ],
      "text/plain": [
       "<IPython.core.display.HTML object>"
      ]
     },
     "metadata": {},
     "output_type": "display_data"
    },
    {
     "data": {
      "text/html": [],
      "text/plain": [
       "<IPython.core.display.HTML object>"
      ]
     },
     "metadata": {},
     "output_type": "display_data"
    },
    {
     "data": {
      "text/html": [
       "<table border=\"1\" class=\"dataframe\">\n",
       "  <thead>\n",
       "    <tr style=\"text-align: right;\">\n",
       "      <th></th>\n",
       "      <th>text</th>\n",
       "      <th>text_</th>\n",
       "    </tr>\n",
       "  </thead>\n",
       "  <tbody>\n",
       "    <tr>\n",
       "      <th>0</th>\n",
       "      <td>xxbos</td>\n",
       "      <td>andraponni</td>\n",
       "    </tr>\n",
       "    <tr>\n",
       "      <th>1</th>\n",
       "      <td>xxbos</td>\n",
       "      <td>xxup</td>\n",
       "    </tr>\n",
       "    <tr>\n",
       "      <th>2</th>\n",
       "      <td>xxup</td>\n",
       "      <td>adt45</td>\n",
       "    </tr>\n",
       "    <tr>\n",
       "      <th>3</th>\n",
       "      <td>karnatakaponni</td>\n",
       "      <td>xxbos</td>\n",
       "    </tr>\n",
       "    <tr>\n",
       "      <th>4</th>\n",
       "      <td>xxbos</td>\n",
       "      <td>xxup</td>\n",
       "    </tr>\n",
       "    <tr>\n",
       "      <th>5</th>\n",
       "      <td>xxup</td>\n",
       "      <td>adt45</td>\n",
       "    </tr>\n",
       "    <tr>\n",
       "      <th>6</th>\n",
       "      <td>xxbos</td>\n",
       "      <td>xxup</td>\n",
       "    </tr>\n",
       "    <tr>\n",
       "      <th>7</th>\n",
       "      <td>adt45</td>\n",
       "      <td>xxbos</td>\n",
       "    </tr>\n",
       "    <tr>\n",
       "      <th>8</th>\n",
       "      <td>adt45</td>\n",
       "      <td>xxbos</td>\n",
       "    </tr>\n",
       "  </tbody>\n",
       "</table>"
      ],
      "text/plain": [
       "<IPython.core.display.HTML object>"
      ]
     },
     "metadata": {},
     "output_type": "display_data"
    }
   ],
   "source": [
    "bs = 64\n",
    "\n",
    "lm_dls = get_lm_dls(bs)\n",
    "text_dls = get_text_classifier_dls(bs, lm_dls)"
   ]
  },
  {
   "cell_type": "code",
   "execution_count": null,
   "id": "338cd281-d320-404a-b478-76f1132edc58",
   "metadata": {},
   "outputs": [],
   "source": [
    "lm_dls.show_batch()"
   ]
  },
  {
   "cell_type": "code",
   "execution_count": null,
   "id": "79f675bc-3bab-4b9a-ad79-9a6dd8f19eb4",
   "metadata": {},
   "outputs": [],
   "source": [
    "text_dls.show_batch()"
   ]
  },
  {
   "cell_type": "code",
   "execution_count": null,
   "id": "d7b0a562-a904-4f56-969b-dfb9439aac35",
   "metadata": {},
   "outputs": [],
   "source": [
    "lm_vocab = lm_dls.vocab\n",
    "text_classifier_vocab = list(dls.vocab[0]) + list(dls.vocab[1])\n",
    "\n",
    "len(lm_vocab), len(dls.vocab), len(dls.vocab[0]), len(dls.vocab[1]), len(text_classifier_vocab)"
   ]
  },
  {
   "cell_type": "markdown",
   "id": "31695098",
   "metadata": {},
   "source": [
    "# Get HF Text Model"
   ]
  },
  {
   "cell_type": "code",
   "execution_count": 195,
   "id": "79025499",
   "metadata": {
    "ExecuteTime": {
     "end_time": "2022-12-11T23:38:08.269488Z",
     "start_time": "2022-12-11T23:38:06.578936Z"
    }
   },
   "outputs": [],
   "source": [
    "from transformers import BertTokenizer, BertModel, AutoModelForPreTraining"
   ]
  },
  {
   "cell_type": "code",
   "execution_count": null,
   "id": "e4a3d2d2-9419-4106-9aa0-1dbcc12c7ec0",
   "metadata": {},
   "outputs": [],
   "source": [
    "bert_arch = \"bert-base-uncased\""
   ]
  },
  {
   "cell_type": "code",
   "execution_count": null,
   "id": "1b94a4ae-dc2e-4d30-8230-0f94c4c2c25f",
   "metadata": {},
   "outputs": [],
   "source": [
    "tokenizer = BertTokenizer.from_pretrained(bert_arch, seq_length=10)"
   ]
  },
  {
   "cell_type": "code",
   "execution_count": 196,
   "id": "d434199c",
   "metadata": {
    "ExecuteTime": {
     "end_time": "2022-12-11T23:38:13.962642Z",
     "start_time": "2022-12-11T23:38:13.860968Z"
    }
   },
   "outputs": [
    {
     "data": {
      "text/plain": [
       "(torch.Size([2, 12, 30522]), torch.Size([2, 2]))"
      ]
     },
     "execution_count": 196,
     "metadata": {},
     "output_type": "execute_result"
    }
   ],
   "source": [
    "text = [\"Replace me by any text you'd like.\", \"Just another test.\", \"this one is longer than 10 words blah blah blah blah blah blah blah\"]\n",
    "encoded_input = tokenizer(text, return_tensors='pt')\n",
    "output = model(**encoded_input)\n",
    "\n",
    "output.prediction_logits.shape, output.seq_relationship_logits.shape"
   ]
  },
  {
   "cell_type": "code",
   "execution_count": 197,
   "id": "d54242bc",
   "metadata": {
    "ExecuteTime": {
     "end_time": "2022-12-11T23:38:23.014195Z",
     "start_time": "2022-12-11T23:38:22.949434Z"
    }
   },
   "outputs": [
    {
     "data": {
      "text/plain": [
       "{'input_ids': tensor([[ 101, 5672, 2033, 2011, 2151, 3793, 2017, 1005, 1040, 2066, 1012,  102],\n",
       "        [ 101, 5672, 2033, 2011, 2151, 3793, 2017, 1005, 1040, 2066, 1012,  102]]), 'token_type_ids': tensor([[0, 0, 0, 0, 0, 0, 0, 0, 0, 0, 0, 0],\n",
       "        [0, 0, 0, 0, 0, 0, 0, 0, 0, 0, 0, 0]]), 'attention_mask': tensor([[1, 1, 1, 1, 1, 1, 1, 1, 1, 1, 1, 1],\n",
       "        [1, 1, 1, 1, 1, 1, 1, 1, 1, 1, 1, 1]])}"
      ]
     },
     "execution_count": 197,
     "metadata": {},
     "output_type": "execute_result"
    }
   ],
   "source": [
    "encoded_input"
   ]
  },
  {
   "cell_type": "markdown",
   "id": "21974f7c",
   "metadata": {
    "jp-MarkdownHeadingCollapsed": true,
    "tags": []
   },
   "source": [
    "# Create a datablock"
   ]
  },
  {
   "cell_type": "code",
   "execution_count": 239,
   "id": "f8a4d93a",
   "metadata": {
    "ExecuteTime": {
     "end_time": "2022-12-11T23:56:06.035765Z",
     "start_time": "2022-12-11T23:56:05.524056Z"
    }
   },
   "outputs": [],
   "source": [
    "indices = list(range_of(df))\n",
    "np.random.shuffle(indices)\n",
    "\n",
    "train_sz = int(0.8 * len(indices))\n",
    "\n",
    "splits = [indices[:train_sz], indices[train_sz:]]\n",
    "tfms = [\n",
    "    lambda x: x.variety.lower(), \n",
    "    partial(tokenizer, return_tensors='pt', \n",
    "            add_special_tokens=True, padding=True, \n",
    "            pad_to_multiple_of=7),\n",
    "]\n",
    "tfms_label = [Categorize()]\n",
    "dsets = Datasets(df, [tfms, tfms_label], splits=splits)"
   ]
  },
  {
   "cell_type": "code",
   "execution_count": 240,
   "id": "b7c2d663",
   "metadata": {
    "ExecuteTime": {
     "end_time": "2022-12-11T23:56:08.771901Z",
     "start_time": "2022-12-11T23:56:08.705363Z"
    }
   },
   "outputs": [
    {
     "data": {
      "text/plain": [
       "({'input_ids': tensor([[  101,  4748,  2102, 19961,   102,     0,     0]]), 'token_type_ids': tensor([[0, 0, 0, 0, 0, 0, 0]]), 'attention_mask': tensor([[1, 1, 1, 1, 1, 0, 0]])},\n",
       " TensorCategory(0))"
      ]
     },
     "execution_count": 240,
     "metadata": {},
     "output_type": "execute_result"
    }
   ],
   "source": [
    "dsets[0]"
   ]
  },
  {
   "cell_type": "code",
   "execution_count": 241,
   "id": "ddb320f5",
   "metadata": {
    "ExecuteTime": {
     "end_time": "2022-12-11T23:56:14.171348Z",
     "start_time": "2022-12-11T23:56:14.038553Z"
    }
   },
   "outputs": [
    {
     "data": {
      "text/plain": [
       "(torch.Size([64, 7]),\n",
       " torch.Size([64, 7]),\n",
       " torch.Size([64, 7]),\n",
       " torch.Size([64]))"
      ]
     },
     "execution_count": 241,
     "metadata": {},
     "output_type": "execute_result"
    }
   ],
   "source": [
    "def create_batch(x):\n",
    "    input_ids = []\n",
    "    token_type_ids = []\n",
    "    attention_mask = []\n",
    "    labels = []\n",
    "    for row, y in x:\n",
    "        input_ids.append(row['input_ids'])\n",
    "        token_type_ids.append(row['token_type_ids'])\n",
    "        attention_mask.append(row['attention_mask'])\n",
    "        labels.append(y)\n",
    "    return (\n",
    "        {\n",
    "            'input_ids': torch.stack(input_ids).squeeze(1),\n",
    "            'token_type_ids': torch.stack(token_type_ids).squeeze(1),\n",
    "            'attention_mask': torch.stack(attention_mask).squeeze(1),\n",
    "        },\n",
    "        tensor(labels)\n",
    "    )\n",
    "\n",
    "dls = dsets.dataloaders(bs=bs, seq_len=1, \n",
    "                        shuffle=True, device=device,\n",
    "                        create_batch=create_batch)\n",
    "x, y = dls.one_batch()\n",
    "x['input_ids'].shape, x['token_type_ids'].shape, x['attention_mask'].shape, y.shape"
   ]
  },
  {
   "cell_type": "markdown",
   "id": "61104140",
   "metadata": {
    "tags": []
   },
   "source": [
    "# Train classifier"
   ]
  },
  {
   "cell_type": "code",
   "execution_count": 246,
   "id": "433e5778",
   "metadata": {
    "ExecuteTime": {
     "end_time": "2022-12-12T00:00:46.691464Z",
     "start_time": "2022-12-12T00:00:46.622363Z"
    }
   },
   "outputs": [],
   "source": [
    "class HFTextClassifier(Module):\n",
    "    def __init__(self, with_relu: bool = False):\n",
    "        self.model = AutoModelForPreTraining.from_pretrained(bert_arch).bert\n",
    "        self.linear = nn.Linear(self.model.config.hidden_size, len(text_classifier_vocab))\n",
    "        \n",
    "        if with_relu:\n",
    "            self.linear = nn.Sequential(nn.ReLU(), self.linear)\n",
    "    \n",
    "    def forward(self, x):\n",
    "        x = self.model(**x)\n",
    "        x = self.linear(x.pooler_output)\n",
    "        return x\n",
    "\n",
    "def hf_splitter(m):\n",
    "    return (params(m.model), params(m.linear))"
   ]
  },
  {
   "cell_type": "code",
   "execution_count": 247,
   "id": "366996e4",
   "metadata": {
    "ExecuteTime": {
     "end_time": "2022-12-12T00:01:11.518951Z",
     "start_time": "2022-12-12T00:00:47.191664Z"
    }
   },
   "outputs": [
    {
     "data": {
      "text/html": [
       "\n",
       "<style>\n",
       "    /* Turns off some styling */\n",
       "    progress {\n",
       "        /* gets rid of default border in Firefox and Opera. */\n",
       "        border: none;\n",
       "        /* Needs to be in here for Safari polyfill so background images work as expected. */\n",
       "        background-size: auto;\n",
       "    }\n",
       "    progress:not([value]), progress:not([value])::-webkit-progress-bar {\n",
       "        background: repeating-linear-gradient(45deg, #7e7e7e, #7e7e7e 10px, #5c5c5c 10px, #5c5c5c 20px);\n",
       "    }\n",
       "    .progress-bar-interrupted, .progress-bar-interrupted::-webkit-progress-bar {\n",
       "        background: #F44336;\n",
       "    }\n",
       "</style>\n"
      ],
      "text/plain": [
       "<IPython.core.display.HTML object>"
      ]
     },
     "metadata": {},
     "output_type": "display_data"
    },
    {
     "data": {
      "text/html": [],
      "text/plain": [
       "<IPython.core.display.HTML object>"
      ]
     },
     "metadata": {},
     "output_type": "display_data"
    },
    {
     "data": {
      "text/plain": [
       "SuggestedLRs(steep=0.0004786300996784121, valley=4.365158383734524e-05)"
      ]
     },
     "execution_count": 247,
     "metadata": {},
     "output_type": "execute_result"
    },
    {
     "data": {
      "image/png": "[encoded data removed]",
      "text/plain": [
       "<Figure size 640x480 with 1 Axes>"
      ]
     },
     "metadata": {},
     "output_type": "display_data"
    }
   ],
   "source": [
    "with safely_train_with_gpu():\n",
    "    learn = Learner(dls, HFTextClassifier(with_relu=False), splitter=hf_splitter,\n",
    "                    metrics=[accuracy], cbs=[ShowGraphCallback()])\n",
    "    print(learn.lr_find(suggest_funcs=(steep, valley)))"
   ]
  },
  {
   "cell_type": "code",
   "execution_count": 249,
   "id": "dd9e1bc8",
   "metadata": {
    "ExecuteTime": {
     "end_time": "2022-12-12T00:04:23.428921Z",
     "start_time": "2022-12-12T00:01:47.003813Z"
    }
   },
   "outputs": [
    {
     "data": {
      "text/html": [
       "\n",
       "<style>\n",
       "    /* Turns off some styling */\n",
       "    progress {\n",
       "        /* gets rid of default border in Firefox and Opera. */\n",
       "        border: none;\n",
       "        /* Needs to be in here for Safari polyfill so background images work as expected. */\n",
       "        background-size: auto;\n",
       "    }\n",
       "    progress:not([value]), progress:not([value])::-webkit-progress-bar {\n",
       "        background: repeating-linear-gradient(45deg, #7e7e7e, #7e7e7e 10px, #5c5c5c 10px, #5c5c5c 20px);\n",
       "    }\n",
       "    .progress-bar-interrupted, .progress-bar-interrupted::-webkit-progress-bar {\n",
       "        background: #F44336;\n",
       "    }\n",
       "</style>\n"
      ],
      "text/plain": [
       "<IPython.core.display.HTML object>"
      ]
     },
     "metadata": {},
     "output_type": "display_data"
    },
    {
     "data": {
      "text/html": [
       "<table border=\"1\" class=\"dataframe\">\n",
       "  <thead>\n",
       "    <tr style=\"text-align: left;\">\n",
       "      <th>epoch</th>\n",
       "      <th>train_loss</th>\n",
       "      <th>valid_loss</th>\n",
       "      <th>accuracy</th>\n",
       "      <th>time</th>\n",
       "    </tr>\n",
       "  </thead>\n",
       "  <tbody>\n",
       "    <tr>\n",
       "      <td>0</td>\n",
       "      <td>2.171323</td>\n",
       "      <td>2.062184</td>\n",
       "      <td>0.244957</td>\n",
       "      <td>00:36</td>\n",
       "    </tr>\n",
       "  </tbody>\n",
       "</table>"
      ],
      "text/plain": [
       "<IPython.core.display.HTML object>"
      ]
     },
     "metadata": {},
     "output_type": "display_data"
    },
    {
     "data": {
      "text/html": [
       "\n",
       "<style>\n",
       "    /* Turns off some styling */\n",
       "    progress {\n",
       "        /* gets rid of default border in Firefox and Opera. */\n",
       "        border: none;\n",
       "        /* Needs to be in here for Safari polyfill so background images work as expected. */\n",
       "        background-size: auto;\n",
       "    }\n",
       "    progress:not([value]), progress:not([value])::-webkit-progress-bar {\n",
       "        background: repeating-linear-gradient(45deg, #7e7e7e, #7e7e7e 10px, #5c5c5c 10px, #5c5c5c 20px);\n",
       "    }\n",
       "    .progress-bar-interrupted, .progress-bar-interrupted::-webkit-progress-bar {\n",
       "        background: #F44336;\n",
       "    }\n",
       "</style>\n"
      ],
      "text/plain": [
       "<IPython.core.display.HTML object>"
      ]
     },
     "metadata": {},
     "output_type": "display_data"
    },
    {
     "data": {
      "text/html": [
       "<table border=\"1\" class=\"dataframe\">\n",
       "  <thead>\n",
       "    <tr style=\"text-align: left;\">\n",
       "      <th>epoch</th>\n",
       "      <th>train_loss</th>\n",
       "      <th>valid_loss</th>\n",
       "      <th>accuracy</th>\n",
       "      <th>time</th>\n",
       "    </tr>\n",
       "  </thead>\n",
       "  <tbody>\n",
       "    <tr>\n",
       "      <td>0</td>\n",
       "      <td>1.975538</td>\n",
       "      <td>1.944403</td>\n",
       "      <td>0.303074</td>\n",
       "      <td>00:39</td>\n",
       "    </tr>\n",
       "    <tr>\n",
       "      <td>1</td>\n",
       "      <td>2.155164</td>\n",
       "      <td>2.157429</td>\n",
       "      <td>0.170509</td>\n",
       "      <td>00:39</td>\n",
       "    </tr>\n",
       "    <tr>\n",
       "      <td>2</td>\n",
       "      <td>2.160076</td>\n",
       "      <td>2.154014</td>\n",
       "      <td>0.163785</td>\n",
       "      <td>00:39</td>\n",
       "    </tr>\n",
       "  </tbody>\n",
       "</table>"
      ],
      "text/plain": [
       "<IPython.core.display.HTML object>"
      ]
     },
     "metadata": {},
     "output_type": "display_data"
    }
   ],
   "source": [
    "with safely_train_with_gpu():\n",
    "    train_learner(dls, HFTextClassifier(with_relu=False), hf_splitter)"
   ]
  },
  {
   "cell_type": "code",
   "execution_count": null,
   "id": "5eba5005-c344-494c-baf8-8fb5cc450d1b",
   "metadata": {},
   "outputs": [],
   "source": [
    "with safely_train_with_gpu():\n",
    "    train_learner(dls, HFTextClassifier(with_relu=True), hf_splitter)"
   ]
  }
 ],
 "metadata": {
  "kernelspec": {
   "display_name": "Python 3 (ipykernel)",
   "language": "python",
   "name": "python3"
  },
  "language_info": {
   "codemirror_mode": {
    "name": "ipython",
    "version": 3
   },
   "file_extension": ".py",
   "mimetype": "text/x-python",
   "name": "python",
   "nbconvert_exporter": "python",
   "pygments_lexer": "ipython3",
   "version": "3.9.13"
  }
 },
 "nbformat": 4,
 "nbformat_minor": 5
}
